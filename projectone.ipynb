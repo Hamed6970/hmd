{
 "cells": [
  {
   "cell_type": "code",
   "execution_count": 8,
   "metadata": {},
   "outputs": [
    {
     "name": "stdout",
     "output_type": "stream",
     "text": [
      "hamed amiri mojodi hesab : 3500 ast\n"
     ]
    }
   ],
   "source": [
    "class kart :\n",
    "    user = [\n",
    "        {\"id\": 1,\n",
    "         \"Fname\":\"hamed\",\n",
    "         \"Lname\":\"amiri\",\n",
    "         \"Mojodi\": 0\n",
    "         },\n",
    "         {\"id\": 2,\n",
    "          \"Fname\":\"taha\",\n",
    "          \"Lname\":\"amiri\",\n",
    "          \"Mojodi\": 0\n",
    "          },\n",
    "          {\"id\": 3,\n",
    "           \"Fname\":\"yasin\",\n",
    "           \"Lname\":\"amiri\",\n",
    "           \"Mojodi\": 0\n",
    "           }\n",
    "    ]\n",
    "    def __init__(self,userId) -> None:\n",
    "        self.userId = userId\n",
    "\n",
    "    def Mojodi (self) -> float:\n",
    "        for user in self.user:\n",
    "            if user[\"id\"] == self.userId:\n",
    "                return user[\"Mojodi\"]\n",
    "            \n",
    "    def varizi(self,count) -> float:\n",
    "        for user in self.user:\n",
    "            if user[\"id\"] == self.userId:\n",
    "                user[\"Mojodi\"] = user[\"Mojodi\"] + count\n",
    "\n",
    "    def bardashti(self,count) -> float:\n",
    "        for user in self.user:\n",
    "            if user[\"id\"] == self.userId:\n",
    "                user[\"Mojodi\"] = user[\"Mojodi\"] - count\n",
    "\n",
    "    def etelaat(self) -> dict:\n",
    "        for user in self.user:\n",
    "            if user[\"id\"] == self.userId:\n",
    "                return user\n",
    "userkart = kart(1);\n",
    "userinfo = userkart.etelaat()\n",
    "userkart.varizi(4000)\n",
    "userkart.bardashti(500)\n",
    "print(f\"{userinfo[\"Fname\"]} {userinfo[\"Lname\"]} mojodi hesab : {userkart.Mojodi()} ast\")"
   ]
  }
 ],
 "metadata": {
  "kernelspec": {
   "display_name": "Python 3",
   "language": "python",
   "name": "python3"
  },
  "language_info": {
   "codemirror_mode": {
    "name": "ipython",
    "version": 3
   },
   "file_extension": ".py",
   "mimetype": "text/x-python",
   "name": "python",
   "nbconvert_exporter": "python",
   "pygments_lexer": "ipython3",
   "version": "3.12.0"
  }
 },
 "nbformat": 4,
 "nbformat_minor": 2
}
